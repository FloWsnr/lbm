{
 "cells": [
  {
   "cell_type": "code",
   "execution_count": 1,
   "metadata": {},
   "outputs": [],
   "source": [
    "import numpy as np\n",
    "from pathlib import Path\n",
    "from lbm_wetting.utils.structure_prep import read_vti_file\n",
    "base_dir = Path(\"/hpcwork/fw641779/lbm/Toray-120C\")"
   ]
  },
  {
   "cell_type": "code",
   "execution_count": null,
   "metadata": {},
   "outputs": [],
   "source": [
    "# Read vti file\n",
    "file = base_dir / \"55cov/structure0/structure.vti\"\n",
    "data = read_vti_file(file)\n",
    "structure = data[\"structure\"]\n",
    "print(structure)\n"
   ]
  },
  {
   "cell_type": "code",
   "execution_count": 4,
   "metadata": {},
   "outputs": [],
   "source": [
    "# Crop structure to 50x50x50\n",
    "structure = structure[250:300, 250:300, 150:200]\n",
    "\n",
    "# Save cropped structure\n",
    "np.save(file.parent / \"structure_cropped.npy\", structure)"
   ]
  },
  {
   "cell_type": "code",
   "execution_count": 6,
   "metadata": {},
   "outputs": [],
   "source": [
    "# Create single tube in structure\n",
    "structure = np.ones((50, 50, 50), dtype=np.uint8) * 255\n",
    "start_point = (25, 25)\n",
    "radius = 10\n",
    "depth = 50\n",
    "\n",
    "xx, yy = np.indices(\n",
    "    (structure.shape[0], structure.shape[1])\n",
    ")\n",
    "\n",
    "circle = (xx - start_point[0]) ** 2 + (yy - start_point[1]) ** 2 <= radius**2\n",
    "\n",
    "structure[circle, 0:depth] = 0\n",
    "np.save(\"/hpcwork/fw641779/lbm/Test_Tube/structure.npy\", structure)\n",
    "\n",
    "# Save slice image\n",
    "from PIL import Image\n",
    "Image.fromarray(structure[:, :, 25]).save(\"/hpcwork/fw641779/lbm/Test_Tube/slice.png\")\n"
   ]
  }
 ],
 "metadata": {
  "kernelspec": {
   "display_name": "lbm",
   "language": "python",
   "name": "python3"
  },
  "language_info": {
   "codemirror_mode": {
    "name": "ipython",
    "version": 3
   },
   "file_extension": ".py",
   "mimetype": "text/x-python",
   "name": "python",
   "nbconvert_exporter": "python",
   "pygments_lexer": "ipython3",
   "version": "3.11.5"
  }
 },
 "nbformat": 4,
 "nbformat_minor": 2
}
