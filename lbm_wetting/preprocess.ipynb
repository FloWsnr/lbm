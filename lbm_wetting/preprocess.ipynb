{
 "cells": [
  {
   "cell_type": "code",
   "execution_count": 2,
   "metadata": {},
   "outputs": [],
   "source": [
    "import numpy as np\n",
    "import matplotlib.pyplot as plt\n",
    "from pathlib import Path\n",
    "from lbm_wetting.utils.structure_prep import read_vti_file"
   ]
  },
  {
   "cell_type": "code",
   "execution_count": 6,
   "metadata": {},
   "outputs": [],
   "source": [
    "# Create single tube in structure\n",
    "structure = np.ones((50, 50, 50), dtype=np.uint8) * 255\n",
    "start_point = (25, 25)\n",
    "radius = 10\n",
    "depth = 50\n",
    "\n",
    "xx, yy = np.indices(\n",
    "    (structure.shape[0], structure.shape[1])\n",
    ")\n",
    "\n",
    "circle = (xx - start_point[0]) ** 2 + (yy - start_point[1]) ** 2 <= radius**2\n",
    "\n",
    "structure[circle, 0:depth] = 0\n",
    "np.save(\"/hpcwork/fw641779/lbm/Test_Tube/structure.npy\", structure)\n",
    "\n",
    "# Save slice image\n",
    "from PIL import Image\n",
    "Image.fromarray(structure[:, :, 25]).save(\"/hpcwork/fw641779/lbm/Test_Tube/slice.png\")\n"
   ]
  },
  {
   "cell_type": "code",
   "execution_count": 15,
   "metadata": {},
   "outputs": [
    {
     "data": {
      "image/png": "[encoded data removed]",
      "text/plain": [
       "<Figure size 640x480 with 2 Axes>"
      ]
     },
     "metadata": {},
     "output_type": "display_data"
    }
   ],
   "source": [
    "# Create 2D cones with decreasing diameter\n",
    "\n",
    "structure = np.ones((100, 100,5), dtype=np.uint8) * 255\n",
    "structure[50:,:,:] = 200\n",
    "\n",
    "max_radius = 15\n",
    "min_radius = 2\n",
    "radii = np.linspace(max_radius, min_radius, structure.shape[1])\n",
    "\n",
    "mid_point = 15\n",
    "for layer in range(structure.shape[1]):\n",
    "    radius = int(radii[layer])\n",
    "    structure[mid_point-radius:mid_point+radius, layer, :] = 0\n",
    "\n",
    "# Second cone with increasing diameter\n",
    "mid_point = 85\n",
    "for layer in range(structure.shape[1]):\n",
    "    radius = int(radii[layer])\n",
    "    structure[mid_point-radius:mid_point+radius, layer, :] = 0\n",
    "\n",
    "\n",
    "# Middle cone\n",
    "mid_point = 50\n",
    "for layer in range(structure.shape[1]):\n",
    "    radius = int(radii[layer])\n",
    "    structure[mid_point-radius:mid_point+radius, layer, :] = 0\n",
    "\n",
    "\n",
    "\n",
    "structure = np.swapaxes(structure, 0, 1)\n",
    "\n",
    "\n",
    "\n",
    "# Plot structure\n",
    "plt.imshow(structure[:, :, 2])\n",
    "plt.colorbar()\n",
    "plt.show()\n",
    "np.save(\"/hpcwork/fw641779/lbm/Test_Cones/structure.npy\", structure)\n"
   ]
  }
 ],
 "metadata": {
  "kernelspec": {
   "display_name": "lbm",
   "language": "python",
   "name": "python3"
  },
  "language_info": {
   "codemirror_mode": {
    "name": "ipython",
    "version": 3
   },
   "file_extension": ".py",
   "mimetype": "text/x-python",
   "name": "python",
   "nbconvert_exporter": "python",
   "pygments_lexer": "ipython3",
   "version": "3.11.5"
  }
 },
 "nbformat": 4,
 "nbformat_minor": 2
}
