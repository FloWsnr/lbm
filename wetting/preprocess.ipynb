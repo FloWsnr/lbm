{
 "cells": [
  {
   "cell_type": "code",
   "execution_count": 1,
   "metadata": {},
   "outputs": [],
   "source": [
    "from pathlib import Path\n",
    "base_dir = Path(\"/work/fw641779/wetting/structures/test/input\")"
   ]
  },
  {
   "cell_type": "code",
   "execution_count": 2,
   "metadata": {},
   "outputs": [],
   "source": [
    "import numpy as np\n",
    "structure = np.load(base_dir / \"structure.npy\")"
   ]
  },
  {
   "cell_type": "code",
   "execution_count": 4,
   "metadata": {},
   "outputs": [],
   "source": [
    "# Crop structure to 50x50x50\n",
    "structure = structure[250:300, 250:300, 150:200]\n",
    "\n",
    "# Save cropped structure\n",
    "np.save(base_dir / \"structure_cropped.npy\", structure)"
   ]
  }
 ],
 "metadata": {
  "kernelspec": {
   "display_name": "lbm",
   "language": "python",
   "name": "python3"
  },
  "language_info": {
   "codemirror_mode": {
    "name": "ipython",
    "version": 3
   },
   "file_extension": ".py",
   "mimetype": "text/x-python",
   "name": "python",
   "nbconvert_exporter": "python",
   "pygments_lexer": "ipython3",
   "version": "3.11.5"
  }
 },
 "nbformat": 4,
 "nbformat_minor": 2
}
